{
 "cells": [
  {
   "cell_type": "code",
   "execution_count": null,
   "metadata": {},
   "outputs": [],
   "source": [
    "# Token de openai\n",
    "\n",
    "import openai\n",
    "import os\n",
    "from dotenv import load_dotenv\n",
    "\n",
    "\n",
    "load_dotenv()\n",
    "\n",
    "openai.api_key = os.getenv(\"OPENAI_API_KEY\")"
   ]
  },
  {
   "cell_type": "code",
   "execution_count": null,
   "metadata": {},
   "outputs": [],
   "source": [
    "# Crear una imagen de publicidad para un producto\n",
    "def create_ad_image(product, audience, background_color, logo_url, product_image_url):\n",
    "    response = openai.Image.create(\n",
    "        model=\"image-creation-v1\",\n",
    "        prompt=f\"Create an advertisement image for a {product} product targeted at {audience}. The image should have a {background_color} background. Include the company logo at {logo_url} and a product image at {product_image_url}.\",\n",
    "        output_format=\"url\",\n",
    "    )\n",
    "    return response.url"
   ]
  },
  {
   "cell_type": "code",
   "execution_count": null,
   "metadata": {},
   "outputs": [],
   "source": [
    "# Descargar la imagen\n",
    "def download_image(url, filename):\n",
    "    response = openai.Image(url).download()\n",
    "    with open(filename, \"wb\") as f:\n",
    "        f.write(response)"
   ]
  },
  {
   "cell_type": "code",
   "execution_count": null,
   "metadata": {},
   "outputs": [],
   "source": [
    "# Subir la imagen a instagram\n",
    "from instabot import Bot\n",
    "\n",
    "def upload_to_instagram(filename, caption):\n",
    "    # Subir la imagen a Instagram\n",
    "    print(f\"Subiendo la imagen {filename} a Instagram con la leyenda: {caption}\")\n",
    "    \n",
    "    # Credenciales de Instagram\n",
    "    username = os.getenv(\"INSTAGRAM_USERNAME\")\n",
    "    password = os.getenv(\"INSTAGRAM_PASSWORD\")\n",
    "    \n",
    "    # Ruta de la imagen\n",
    "    image_path = filename\n",
    "    \n",
    "    # Iniciar sesión en Instagram\n",
    "    bot = Bot()\n",
    "    bot.login(username=username, password=password)\n",
    "    \n",
    "    # Subir la imagen\n",
    "    bot.upload_photo(image_path, caption=caption)\n",
    "    \n",
    "    # Cerrar sesión\n",
    "    bot.logout()\n",
    "    "
   ]
  }
 ],
 "metadata": {
  "kernelspec": {
   "display_name": "Python 3",
   "language": "python",
   "name": "python3"
  },
  "language_info": {
   "name": "python",
   "version": "3.12.1"
  }
 },
 "nbformat": 4,
 "nbformat_minor": 2
}
