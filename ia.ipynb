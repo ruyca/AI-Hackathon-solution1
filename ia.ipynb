{
 "cells": [
  {
   "cell_type": "code",
   "execution_count": null,
   "metadata": {},
   "outputs": [],
   "source": [
    "# Token de openai\n",
    "\n",
    "import openai\n",
    "import os\n",
    "from dotenv import load_dotenv\n",
    "\n",
    "load_dotenv()\n",
    "\n",
    "openai.api_key = os.getenv(\"OPENAI_API_KEY\")"
   ]
  },
  {
   "cell_type": "code",
   "execution_count": null,
   "metadata": {},
   "outputs": [],
   "source": [
    "# Crear una imagen de publicidad para un producto\n",
    "def create_ad_image(product, audience, background_color, logo_url, product_image_url):\n",
    "    response = openai.Image.create(\n",
    "        model=\"image-creation-v1\",\n",
    "        prompt=f\"Create an advertisement image for a {product} product targeted at {audience}. The image should have a {background_color} background. Include the company logo at {logo_url} and a product image at {product_image_url}.\",\n",
    "        output_format=\"url\",\n",
    "    )\n",
    "    return response.url"
   ]
  },
  {
   "cell_type": "code",
   "execution_count": null,
   "metadata": {},
   "outputs": [],
   "source": [
    "# Descargar la imagen\n",
    "def download_image(url, filename):\n",
    "    response = openai.Image(url).download()\n",
    "    with open(filename, \"wb\") as f:\n",
    "        f.write(response)"
   ]
  }
 ],
 "metadata": {
  "language_info": {
   "name": "python"
  }
 },
 "nbformat": 4,
 "nbformat_minor": 2
}
